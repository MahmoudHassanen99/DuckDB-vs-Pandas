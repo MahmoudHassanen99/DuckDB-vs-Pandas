{
  "nbformat": 4,
  "nbformat_minor": 0,
  "metadata": {
    "colab": {
      "provenance": [],
      "toc_visible": true
    },
    "kernelspec": {
      "name": "python3",
      "display_name": "Python 3"
    },
    "language_info": {
      "name": "python"
    },
    "widgets": {
      "application/vnd.jupyter.widget-state+json": {
        "a22bec4efea648e1931b766031559902": {
          "model_module": "@jupyter-widgets/controls",
          "model_name": "FloatProgressModel",
          "model_module_version": "1.5.0",
          "state": {
            "_dom_classes": [],
            "_model_module": "@jupyter-widgets/controls",
            "_model_module_version": "1.5.0",
            "_model_name": "FloatProgressModel",
            "_view_count": null,
            "_view_module": "@jupyter-widgets/controls",
            "_view_module_version": "1.5.0",
            "_view_name": "ProgressView",
            "bar_style": "",
            "description": "",
            "description_tooltip": null,
            "layout": "IPY_MODEL_df21ddaa5143451d85428679b7b0d47c",
            "max": 100,
            "min": 0,
            "orientation": "horizontal",
            "style": "IPY_MODEL_b188ec8da2df4dfa9209ec914a0bba24",
            "value": 100
          }
        },
        "df21ddaa5143451d85428679b7b0d47c": {
          "model_module": "@jupyter-widgets/base",
          "model_name": "LayoutModel",
          "model_module_version": "1.2.0",
          "state": {
            "_model_module": "@jupyter-widgets/base",
            "_model_module_version": "1.2.0",
            "_model_name": "LayoutModel",
            "_view_count": null,
            "_view_module": "@jupyter-widgets/base",
            "_view_module_version": "1.2.0",
            "_view_name": "LayoutView",
            "align_content": null,
            "align_items": null,
            "align_self": null,
            "border": null,
            "bottom": null,
            "display": null,
            "flex": null,
            "flex_flow": null,
            "grid_area": null,
            "grid_auto_columns": null,
            "grid_auto_flow": null,
            "grid_auto_rows": null,
            "grid_column": null,
            "grid_gap": null,
            "grid_row": null,
            "grid_template_areas": null,
            "grid_template_columns": null,
            "grid_template_rows": null,
            "height": null,
            "justify_content": null,
            "justify_items": null,
            "left": null,
            "margin": null,
            "max_height": null,
            "max_width": null,
            "min_height": null,
            "min_width": null,
            "object_fit": null,
            "object_position": null,
            "order": null,
            "overflow": null,
            "overflow_x": null,
            "overflow_y": null,
            "padding": null,
            "right": null,
            "top": null,
            "visibility": null,
            "width": "auto"
          }
        },
        "b188ec8da2df4dfa9209ec914a0bba24": {
          "model_module": "@jupyter-widgets/controls",
          "model_name": "ProgressStyleModel",
          "model_module_version": "1.5.0",
          "state": {
            "_model_module": "@jupyter-widgets/controls",
            "_model_module_version": "1.5.0",
            "_model_name": "ProgressStyleModel",
            "_view_count": null,
            "_view_module": "@jupyter-widgets/base",
            "_view_module_version": "1.2.0",
            "_view_name": "StyleView",
            "bar_color": "black",
            "description_width": ""
          }
        }
      }
    }
  },
  "cells": [
    {
      "cell_type": "code",
      "execution_count": 1,
      "metadata": {
        "colab": {
          "base_uri": "https://localhost:8080/"
        },
        "id": "TEjgY0dXGOoM",
        "outputId": "de32034c-af4c-49ec-9850-41878021a914"
      },
      "outputs": [
        {
          "output_type": "stream",
          "name": "stdout",
          "text": [
            "Requirement already satisfied: duckdb in /usr/local/lib/python3.11/dist-packages (1.1.3)\n"
          ]
        }
      ],
      "source": [
        "!pip install duckdb"
      ]
    },
    {
      "cell_type": "code",
      "source": [
        "!curl -o Electric_Vehicle_Population_Data.csv https://raw.githubusercontent.com/danielbeach/data-engineering-practice/main/Exercises/Exercise-8/data/Electric_Vehicle_Population_Data.csv"
      ],
      "metadata": {
        "colab": {
          "base_uri": "https://localhost:8080/"
        },
        "id": "4pfGcYguGRxU",
        "outputId": "77c5eeb4-40ef-437d-9de0-45bf15e4c5e5"
      },
      "execution_count": 2,
      "outputs": [
        {
          "output_type": "stream",
          "name": "stdout",
          "text": [
            "  % Total    % Received % Xferd  Average Speed   Time    Time     Time  Current\n",
            "                                 Dload  Upload   Total   Spent    Left  Speed\n",
            "100 17.0M  100 17.0M    0     0  26.6M      0 --:--:-- --:--:-- --:--:-- 26.6M\n"
          ]
        }
      ]
    },
    {
      "cell_type": "code",
      "source": [
        "import pandas as pd\n",
        "import duckdb\n",
        "import time\n",
        "import sqlite3\n",
        "import matplotlib.pyplot as plt"
      ],
      "metadata": {
        "id": "HLodG9qzIx6m"
      },
      "execution_count": 3,
      "outputs": []
    },
    {
      "cell_type": "markdown",
      "source": [
        "## Small Data"
      ],
      "metadata": {
        "id": "pfHzQTEhZwlX"
      }
    },
    {
      "cell_type": "code",
      "source": [
        "df = pd.read_csv(\"/content/electric-cars.csv\")\n",
        "df.head()\n"
      ],
      "metadata": {
        "colab": {
          "base_uri": "https://localhost:8080/",
          "height": 608
        },
        "id": "Kt9FrWjQGw7h",
        "outputId": "5c166500-0cd7-4c1e-caaf-c88d7d6764d7"
      },
      "execution_count": 4,
      "outputs": [
        {
          "output_type": "execute_result",
          "data": {
            "text/plain": [
              "   Unnamed: 0.1  Unnamed: 0  VIN (1-10)     County       City State  \\\n",
              "0             0           0  5YJ3E1EB4L     Yakima     Yakima    WA   \n",
              "1             1           1  5YJ3E1EA7K  San Diego  San Diego    CA   \n",
              "2             2           2  7JRBR0FL9M       Lane     Eugene    OR   \n",
              "3             3           3  5YJXCBE21K     Yakima     Yakima    WA   \n",
              "4             4           4  5UXKT0C5XH  Snohomish    Bothell    WA   \n",
              "\n",
              "   Postal_Code  Model_Year   Make    Model  \\\n",
              "0        98908        2020  TESLA  MODEL 3   \n",
              "1        92101        2019  TESLA  MODEL 3   \n",
              "2        97404        2021  VOLVO      S60   \n",
              "3        98908        2019  TESLA  MODEL X   \n",
              "4        98021        2017    BMW       X5   \n",
              "\n",
              "                                  EV_Type  \\\n",
              "0          Battery Electric Vehicle (BEV)   \n",
              "1          Battery Electric Vehicle (BEV)   \n",
              "2  Plug-in Hybrid Electric Vehicle (PHEV)   \n",
              "3          Battery Electric Vehicle (BEV)   \n",
              "4  Plug-in Hybrid Electric Vehicle (PHEV)   \n",
              "\n",
              "  Clean Alternative Fuel Vehicle (CAFV) Eligibility  Electric_Range  \\\n",
              "0           Clean Alternative Fuel Vehicle Eligible             322   \n",
              "1           Clean Alternative Fuel Vehicle Eligible             220   \n",
              "2             Not eligible due to low battery range              22   \n",
              "3           Clean Alternative Fuel Vehicle Eligible             289   \n",
              "4             Not eligible due to low battery range              14   \n",
              "\n",
              "   Base MSRP  Legislative District  DOL Vehicle ID  \\\n",
              "0          0                  14.0       127175366   \n",
              "1          0                   NaN       266614659   \n",
              "2          0                   NaN       144502018   \n",
              "3          0                  14.0       477039944   \n",
              "4          0                   1.0       106314946   \n",
              "\n",
              "              Vehicle Location        Electric Utility  2020 Census Tract  \n",
              "0  POINT (-120.56916 46.58514)              PACIFICORP        53077000904  \n",
              "1  POINT (-117.16171 32.71568)                     NaN         6073005102  \n",
              "2  POINT (-123.12802 44.09573)                     NaN        41039002401  \n",
              "3  POINT (-120.56916 46.58514)              PACIFICORP        53077000401  \n",
              "4   POINT (-122.18384 47.8031)  PUGET SOUND ENERGY INC        53061051918  "
            ],
            "text/html": [
              "\n",
              "  <div id=\"df-d474aef5-e18c-4822-894e-2b3908aa32e4\" class=\"colab-df-container\">\n",
              "    <div>\n",
              "<style scoped>\n",
              "    .dataframe tbody tr th:only-of-type {\n",
              "        vertical-align: middle;\n",
              "    }\n",
              "\n",
              "    .dataframe tbody tr th {\n",
              "        vertical-align: top;\n",
              "    }\n",
              "\n",
              "    .dataframe thead th {\n",
              "        text-align: right;\n",
              "    }\n",
              "</style>\n",
              "<table border=\"1\" class=\"dataframe\">\n",
              "  <thead>\n",
              "    <tr style=\"text-align: right;\">\n",
              "      <th></th>\n",
              "      <th>Unnamed: 0.1</th>\n",
              "      <th>Unnamed: 0</th>\n",
              "      <th>VIN (1-10)</th>\n",
              "      <th>County</th>\n",
              "      <th>City</th>\n",
              "      <th>State</th>\n",
              "      <th>Postal_Code</th>\n",
              "      <th>Model_Year</th>\n",
              "      <th>Make</th>\n",
              "      <th>Model</th>\n",
              "      <th>EV_Type</th>\n",
              "      <th>Clean Alternative Fuel Vehicle (CAFV) Eligibility</th>\n",
              "      <th>Electric_Range</th>\n",
              "      <th>Base MSRP</th>\n",
              "      <th>Legislative District</th>\n",
              "      <th>DOL Vehicle ID</th>\n",
              "      <th>Vehicle Location</th>\n",
              "      <th>Electric Utility</th>\n",
              "      <th>2020 Census Tract</th>\n",
              "    </tr>\n",
              "  </thead>\n",
              "  <tbody>\n",
              "    <tr>\n",
              "      <th>0</th>\n",
              "      <td>0</td>\n",
              "      <td>0</td>\n",
              "      <td>5YJ3E1EB4L</td>\n",
              "      <td>Yakima</td>\n",
              "      <td>Yakima</td>\n",
              "      <td>WA</td>\n",
              "      <td>98908</td>\n",
              "      <td>2020</td>\n",
              "      <td>TESLA</td>\n",
              "      <td>MODEL 3</td>\n",
              "      <td>Battery Electric Vehicle (BEV)</td>\n",
              "      <td>Clean Alternative Fuel Vehicle Eligible</td>\n",
              "      <td>322</td>\n",
              "      <td>0</td>\n",
              "      <td>14.0</td>\n",
              "      <td>127175366</td>\n",
              "      <td>POINT (-120.56916 46.58514)</td>\n",
              "      <td>PACIFICORP</td>\n",
              "      <td>53077000904</td>\n",
              "    </tr>\n",
              "    <tr>\n",
              "      <th>1</th>\n",
              "      <td>1</td>\n",
              "      <td>1</td>\n",
              "      <td>5YJ3E1EA7K</td>\n",
              "      <td>San Diego</td>\n",
              "      <td>San Diego</td>\n",
              "      <td>CA</td>\n",
              "      <td>92101</td>\n",
              "      <td>2019</td>\n",
              "      <td>TESLA</td>\n",
              "      <td>MODEL 3</td>\n",
              "      <td>Battery Electric Vehicle (BEV)</td>\n",
              "      <td>Clean Alternative Fuel Vehicle Eligible</td>\n",
              "      <td>220</td>\n",
              "      <td>0</td>\n",
              "      <td>NaN</td>\n",
              "      <td>266614659</td>\n",
              "      <td>POINT (-117.16171 32.71568)</td>\n",
              "      <td>NaN</td>\n",
              "      <td>6073005102</td>\n",
              "    </tr>\n",
              "    <tr>\n",
              "      <th>2</th>\n",
              "      <td>2</td>\n",
              "      <td>2</td>\n",
              "      <td>7JRBR0FL9M</td>\n",
              "      <td>Lane</td>\n",
              "      <td>Eugene</td>\n",
              "      <td>OR</td>\n",
              "      <td>97404</td>\n",
              "      <td>2021</td>\n",
              "      <td>VOLVO</td>\n",
              "      <td>S60</td>\n",
              "      <td>Plug-in Hybrid Electric Vehicle (PHEV)</td>\n",
              "      <td>Not eligible due to low battery range</td>\n",
              "      <td>22</td>\n",
              "      <td>0</td>\n",
              "      <td>NaN</td>\n",
              "      <td>144502018</td>\n",
              "      <td>POINT (-123.12802 44.09573)</td>\n",
              "      <td>NaN</td>\n",
              "      <td>41039002401</td>\n",
              "    </tr>\n",
              "    <tr>\n",
              "      <th>3</th>\n",
              "      <td>3</td>\n",
              "      <td>3</td>\n",
              "      <td>5YJXCBE21K</td>\n",
              "      <td>Yakima</td>\n",
              "      <td>Yakima</td>\n",
              "      <td>WA</td>\n",
              "      <td>98908</td>\n",
              "      <td>2019</td>\n",
              "      <td>TESLA</td>\n",
              "      <td>MODEL X</td>\n",
              "      <td>Battery Electric Vehicle (BEV)</td>\n",
              "      <td>Clean Alternative Fuel Vehicle Eligible</td>\n",
              "      <td>289</td>\n",
              "      <td>0</td>\n",
              "      <td>14.0</td>\n",
              "      <td>477039944</td>\n",
              "      <td>POINT (-120.56916 46.58514)</td>\n",
              "      <td>PACIFICORP</td>\n",
              "      <td>53077000401</td>\n",
              "    </tr>\n",
              "    <tr>\n",
              "      <th>4</th>\n",
              "      <td>4</td>\n",
              "      <td>4</td>\n",
              "      <td>5UXKT0C5XH</td>\n",
              "      <td>Snohomish</td>\n",
              "      <td>Bothell</td>\n",
              "      <td>WA</td>\n",
              "      <td>98021</td>\n",
              "      <td>2017</td>\n",
              "      <td>BMW</td>\n",
              "      <td>X5</td>\n",
              "      <td>Plug-in Hybrid Electric Vehicle (PHEV)</td>\n",
              "      <td>Not eligible due to low battery range</td>\n",
              "      <td>14</td>\n",
              "      <td>0</td>\n",
              "      <td>1.0</td>\n",
              "      <td>106314946</td>\n",
              "      <td>POINT (-122.18384 47.8031)</td>\n",
              "      <td>PUGET SOUND ENERGY INC</td>\n",
              "      <td>53061051918</td>\n",
              "    </tr>\n",
              "  </tbody>\n",
              "</table>\n",
              "</div>\n",
              "    <div class=\"colab-df-buttons\">\n",
              "\n",
              "  <div class=\"colab-df-container\">\n",
              "    <button class=\"colab-df-convert\" onclick=\"convertToInteractive('df-d474aef5-e18c-4822-894e-2b3908aa32e4')\"\n",
              "            title=\"Convert this dataframe to an interactive table.\"\n",
              "            style=\"display:none;\">\n",
              "\n",
              "  <svg xmlns=\"http://www.w3.org/2000/svg\" height=\"24px\" viewBox=\"0 -960 960 960\">\n",
              "    <path d=\"M120-120v-720h720v720H120Zm60-500h600v-160H180v160Zm220 220h160v-160H400v160Zm0 220h160v-160H400v160ZM180-400h160v-160H180v160Zm440 0h160v-160H620v160ZM180-180h160v-160H180v160Zm440 0h160v-160H620v160Z\"/>\n",
              "  </svg>\n",
              "    </button>\n",
              "\n",
              "  <style>\n",
              "    .colab-df-container {\n",
              "      display:flex;\n",
              "      gap: 12px;\n",
              "    }\n",
              "\n",
              "    .colab-df-convert {\n",
              "      background-color: #E8F0FE;\n",
              "      border: none;\n",
              "      border-radius: 50%;\n",
              "      cursor: pointer;\n",
              "      display: none;\n",
              "      fill: #1967D2;\n",
              "      height: 32px;\n",
              "      padding: 0 0 0 0;\n",
              "      width: 32px;\n",
              "    }\n",
              "\n",
              "    .colab-df-convert:hover {\n",
              "      background-color: #E2EBFA;\n",
              "      box-shadow: 0px 1px 2px rgba(60, 64, 67, 0.3), 0px 1px 3px 1px rgba(60, 64, 67, 0.15);\n",
              "      fill: #174EA6;\n",
              "    }\n",
              "\n",
              "    .colab-df-buttons div {\n",
              "      margin-bottom: 4px;\n",
              "    }\n",
              "\n",
              "    [theme=dark] .colab-df-convert {\n",
              "      background-color: #3B4455;\n",
              "      fill: #D2E3FC;\n",
              "    }\n",
              "\n",
              "    [theme=dark] .colab-df-convert:hover {\n",
              "      background-color: #434B5C;\n",
              "      box-shadow: 0px 1px 3px 1px rgba(0, 0, 0, 0.15);\n",
              "      filter: drop-shadow(0px 1px 2px rgba(0, 0, 0, 0.3));\n",
              "      fill: #FFFFFF;\n",
              "    }\n",
              "  </style>\n",
              "\n",
              "    <script>\n",
              "      const buttonEl =\n",
              "        document.querySelector('#df-d474aef5-e18c-4822-894e-2b3908aa32e4 button.colab-df-convert');\n",
              "      buttonEl.style.display =\n",
              "        google.colab.kernel.accessAllowed ? 'block' : 'none';\n",
              "\n",
              "      async function convertToInteractive(key) {\n",
              "        const element = document.querySelector('#df-d474aef5-e18c-4822-894e-2b3908aa32e4');\n",
              "        const dataTable =\n",
              "          await google.colab.kernel.invokeFunction('convertToInteractive',\n",
              "                                                    [key], {});\n",
              "        if (!dataTable) return;\n",
              "\n",
              "        const docLinkHtml = 'Like what you see? Visit the ' +\n",
              "          '<a target=\"_blank\" href=https://colab.research.google.com/notebooks/data_table.ipynb>data table notebook</a>'\n",
              "          + ' to learn more about interactive tables.';\n",
              "        element.innerHTML = '';\n",
              "        dataTable['output_type'] = 'display_data';\n",
              "        await google.colab.output.renderOutput(dataTable, element);\n",
              "        const docLink = document.createElement('div');\n",
              "        docLink.innerHTML = docLinkHtml;\n",
              "        element.appendChild(docLink);\n",
              "      }\n",
              "    </script>\n",
              "  </div>\n",
              "\n",
              "\n",
              "<div id=\"df-ddfe6a51-ce3a-4cb8-9183-81e2330f0693\">\n",
              "  <button class=\"colab-df-quickchart\" onclick=\"quickchart('df-ddfe6a51-ce3a-4cb8-9183-81e2330f0693')\"\n",
              "            title=\"Suggest charts\"\n",
              "            style=\"display:none;\">\n",
              "\n",
              "<svg xmlns=\"http://www.w3.org/2000/svg\" height=\"24px\"viewBox=\"0 0 24 24\"\n",
              "     width=\"24px\">\n",
              "    <g>\n",
              "        <path d=\"M19 3H5c-1.1 0-2 .9-2 2v14c0 1.1.9 2 2 2h14c1.1 0 2-.9 2-2V5c0-1.1-.9-2-2-2zM9 17H7v-7h2v7zm4 0h-2V7h2v10zm4 0h-2v-4h2v4z\"/>\n",
              "    </g>\n",
              "</svg>\n",
              "  </button>\n",
              "\n",
              "<style>\n",
              "  .colab-df-quickchart {\n",
              "      --bg-color: #E8F0FE;\n",
              "      --fill-color: #1967D2;\n",
              "      --hover-bg-color: #E2EBFA;\n",
              "      --hover-fill-color: #174EA6;\n",
              "      --disabled-fill-color: #AAA;\n",
              "      --disabled-bg-color: #DDD;\n",
              "  }\n",
              "\n",
              "  [theme=dark] .colab-df-quickchart {\n",
              "      --bg-color: #3B4455;\n",
              "      --fill-color: #D2E3FC;\n",
              "      --hover-bg-color: #434B5C;\n",
              "      --hover-fill-color: #FFFFFF;\n",
              "      --disabled-bg-color: #3B4455;\n",
              "      --disabled-fill-color: #666;\n",
              "  }\n",
              "\n",
              "  .colab-df-quickchart {\n",
              "    background-color: var(--bg-color);\n",
              "    border: none;\n",
              "    border-radius: 50%;\n",
              "    cursor: pointer;\n",
              "    display: none;\n",
              "    fill: var(--fill-color);\n",
              "    height: 32px;\n",
              "    padding: 0;\n",
              "    width: 32px;\n",
              "  }\n",
              "\n",
              "  .colab-df-quickchart:hover {\n",
              "    background-color: var(--hover-bg-color);\n",
              "    box-shadow: 0 1px 2px rgba(60, 64, 67, 0.3), 0 1px 3px 1px rgba(60, 64, 67, 0.15);\n",
              "    fill: var(--button-hover-fill-color);\n",
              "  }\n",
              "\n",
              "  .colab-df-quickchart-complete:disabled,\n",
              "  .colab-df-quickchart-complete:disabled:hover {\n",
              "    background-color: var(--disabled-bg-color);\n",
              "    fill: var(--disabled-fill-color);\n",
              "    box-shadow: none;\n",
              "  }\n",
              "\n",
              "  .colab-df-spinner {\n",
              "    border: 2px solid var(--fill-color);\n",
              "    border-color: transparent;\n",
              "    border-bottom-color: var(--fill-color);\n",
              "    animation:\n",
              "      spin 1s steps(1) infinite;\n",
              "  }\n",
              "\n",
              "  @keyframes spin {\n",
              "    0% {\n",
              "      border-color: transparent;\n",
              "      border-bottom-color: var(--fill-color);\n",
              "      border-left-color: var(--fill-color);\n",
              "    }\n",
              "    20% {\n",
              "      border-color: transparent;\n",
              "      border-left-color: var(--fill-color);\n",
              "      border-top-color: var(--fill-color);\n",
              "    }\n",
              "    30% {\n",
              "      border-color: transparent;\n",
              "      border-left-color: var(--fill-color);\n",
              "      border-top-color: var(--fill-color);\n",
              "      border-right-color: var(--fill-color);\n",
              "    }\n",
              "    40% {\n",
              "      border-color: transparent;\n",
              "      border-right-color: var(--fill-color);\n",
              "      border-top-color: var(--fill-color);\n",
              "    }\n",
              "    60% {\n",
              "      border-color: transparent;\n",
              "      border-right-color: var(--fill-color);\n",
              "    }\n",
              "    80% {\n",
              "      border-color: transparent;\n",
              "      border-right-color: var(--fill-color);\n",
              "      border-bottom-color: var(--fill-color);\n",
              "    }\n",
              "    90% {\n",
              "      border-color: transparent;\n",
              "      border-bottom-color: var(--fill-color);\n",
              "    }\n",
              "  }\n",
              "</style>\n",
              "\n",
              "  <script>\n",
              "    async function quickchart(key) {\n",
              "      const quickchartButtonEl =\n",
              "        document.querySelector('#' + key + ' button');\n",
              "      quickchartButtonEl.disabled = true;  // To prevent multiple clicks.\n",
              "      quickchartButtonEl.classList.add('colab-df-spinner');\n",
              "      try {\n",
              "        const charts = await google.colab.kernel.invokeFunction(\n",
              "            'suggestCharts', [key], {});\n",
              "      } catch (error) {\n",
              "        console.error('Error during call to suggestCharts:', error);\n",
              "      }\n",
              "      quickchartButtonEl.classList.remove('colab-df-spinner');\n",
              "      quickchartButtonEl.classList.add('colab-df-quickchart-complete');\n",
              "    }\n",
              "    (() => {\n",
              "      let quickchartButtonEl =\n",
              "        document.querySelector('#df-ddfe6a51-ce3a-4cb8-9183-81e2330f0693 button');\n",
              "      quickchartButtonEl.style.display =\n",
              "        google.colab.kernel.accessAllowed ? 'block' : 'none';\n",
              "    })();\n",
              "  </script>\n",
              "</div>\n",
              "\n",
              "    </div>\n",
              "  </div>\n"
            ],
            "application/vnd.google.colaboratory.intrinsic+json": {
              "type": "dataframe",
              "variable_name": "df",
              "summary": "{\n  \"name\": \"df\",\n  \"rows\": 75215,\n  \"fields\": [\n    {\n      \"column\": \"Unnamed: 0.1\",\n      \"properties\": {\n        \"dtype\": \"number\",\n        \"std\": 21712,\n        \"min\": 0,\n        \"max\": 75214,\n        \"num_unique_values\": 75215,\n        \"samples\": [\n          6264,\n          52454,\n          9822\n        ],\n        \"semantic_type\": \"\",\n        \"description\": \"\"\n      }\n    },\n    {\n      \"column\": \"Unnamed: 0\",\n      \"properties\": {\n        \"dtype\": \"number\",\n        \"std\": 21712,\n        \"min\": 0,\n        \"max\": 75214,\n        \"num_unique_values\": 75215,\n        \"samples\": [\n          6264,\n          52454,\n          9822\n        ],\n        \"semantic_type\": \"\",\n        \"description\": \"\"\n      }\n    },\n    {\n      \"column\": \"VIN (1-10)\",\n      \"properties\": {\n        \"dtype\": \"category\",\n        \"num_unique_values\": 7476,\n        \"samples\": [\n          \"2C4RC1H78L\",\n          \"1FMCU0LZ2N\",\n          \"1G1FW6S07P\"\n        ],\n        \"semantic_type\": \"\",\n        \"description\": \"\"\n      }\n    },\n    {\n      \"column\": \"County\",\n      \"properties\": {\n        \"dtype\": \"category\",\n        \"num_unique_values\": 119,\n        \"samples\": [\n          \"Saratoga\",\n          \"Bexar\",\n          \"Kitsap\"\n        ],\n        \"semantic_type\": \"\",\n        \"description\": \"\"\n      }\n    },\n    {\n      \"column\": \"City\",\n      \"properties\": {\n        \"dtype\": \"category\",\n        \"num_unique_values\": 540,\n        \"samples\": [\n          \"College Place\",\n          \"Normandy Park\",\n          \"Mineral\"\n        ],\n        \"semantic_type\": \"\",\n        \"description\": \"\"\n      }\n    },\n    {\n      \"column\": \"State\",\n      \"properties\": {\n        \"dtype\": \"category\",\n        \"num_unique_values\": 35,\n        \"samples\": [\n          \"HI\",\n          \"NY\",\n          \"KS\"\n        ],\n        \"semantic_type\": \"\",\n        \"description\": \"\"\n      }\n    },\n    {\n      \"column\": \"Postal_Code\",\n      \"properties\": {\n        \"dtype\": \"number\",\n        \"std\": 2506,\n        \"min\": 1730,\n        \"max\": 99701,\n        \"num_unique_values\": 646,\n        \"samples\": [\n          90249,\n          89147,\n          98433\n        ],\n        \"semantic_type\": \"\",\n        \"description\": \"\"\n      }\n    },\n    {\n      \"column\": \"Model_Year\",\n      \"properties\": {\n        \"dtype\": \"number\",\n        \"std\": 2,\n        \"min\": 1999,\n        \"max\": 2023,\n        \"num_unique_values\": 17,\n        \"samples\": [\n          2020,\n          2019,\n          2018\n        ],\n        \"semantic_type\": \"\",\n        \"description\": \"\"\n      }\n    },\n    {\n      \"column\": \"Make\",\n      \"properties\": {\n        \"dtype\": \"category\",\n        \"num_unique_values\": 35,\n        \"samples\": [\n          \"LUCID MOTORS\",\n          \"AUDI\",\n          \"POLESTAR\"\n        ],\n        \"semantic_type\": \"\",\n        \"description\": \"\"\n      }\n    },\n    {\n      \"column\": \"Model\",\n      \"properties\": {\n        \"dtype\": \"category\",\n        \"num_unique_values\": 119,\n        \"samples\": [\n          \"RAV4\",\n          \"C-CLASS\",\n          \"LEAF\"\n        ],\n        \"semantic_type\": \"\",\n        \"description\": \"\"\n      }\n    },\n    {\n      \"column\": \"EV_Type\",\n      \"properties\": {\n        \"dtype\": \"category\",\n        \"num_unique_values\": 2,\n        \"samples\": [\n          \"Plug-in Hybrid Electric Vehicle (PHEV)\",\n          \"Battery Electric Vehicle (BEV)\"\n        ],\n        \"semantic_type\": \"\",\n        \"description\": \"\"\n      }\n    },\n    {\n      \"column\": \"Clean Alternative Fuel Vehicle (CAFV) Eligibility\",\n      \"properties\": {\n        \"dtype\": \"category\",\n        \"num_unique_values\": 3,\n        \"samples\": [\n          \"Clean Alternative Fuel Vehicle Eligible\",\n          \"Not eligible due to low battery range\"\n        ],\n        \"semantic_type\": \"\",\n        \"description\": \"\"\n      }\n    },\n    {\n      \"column\": \"Electric_Range\",\n      \"properties\": {\n        \"dtype\": \"number\",\n        \"std\": 100,\n        \"min\": 0,\n        \"max\": 337,\n        \"num_unique_values\": 98,\n        \"samples\": [\n          16,\n          149\n        ],\n        \"semantic_type\": \"\",\n        \"description\": \"\"\n      }\n    },\n    {\n      \"column\": \"Base MSRP\",\n      \"properties\": {\n        \"dtype\": \"number\",\n        \"std\": 10314,\n        \"min\": 0,\n        \"max\": 845000,\n        \"num_unique_values\": 31,\n        \"samples\": [\n          91250,\n          98950\n        ],\n        \"semantic_type\": \"\",\n        \"description\": \"\"\n      }\n    },\n    {\n      \"column\": \"Legislative District\",\n      \"properties\": {\n        \"dtype\": \"number\",\n        \"std\": 14.760174369808812,\n        \"min\": 1.0,\n        \"max\": 49.0,\n        \"num_unique_values\": 49,\n        \"samples\": [\n          41.0,\n          25.0\n        ],\n        \"semantic_type\": \"\",\n        \"description\": \"\"\n      }\n    },\n    {\n      \"column\": \"DOL Vehicle ID\",\n      \"properties\": {\n        \"dtype\": \"number\",\n        \"std\": 89142359,\n        \"min\": 4777,\n        \"max\": 478935460,\n        \"num_unique_values\": 75215,\n        \"samples\": [\n          110048571,\n          474649304\n        ],\n        \"semantic_type\": \"\",\n        \"description\": \"\"\n      }\n    },\n    {\n      \"column\": \"Vehicle Location\",\n      \"properties\": {\n        \"dtype\": \"category\",\n        \"num_unique_values\": 639,\n        \"samples\": [\n          \"POINT (-122.38418 47.70044)\",\n          \"POINT (-121.28544 45.6939)\"\n        ],\n        \"semantic_type\": \"\",\n        \"description\": \"\"\n      }\n    },\n    {\n      \"column\": \"Electric Utility\",\n      \"properties\": {\n        \"dtype\": \"category\",\n        \"num_unique_values\": 72,\n        \"samples\": [\n          \"CITY OF SEATTLE - (WA)|CITY OF TACOMA - (WA)\",\n          \"BONNEVILLE POWER ADMINISTRATION||PUD NO 1 OF ASOTIN COUNTY||INLAND POWER & LIGHT COMPANY\"\n        ],\n        \"semantic_type\": \"\",\n        \"description\": \"\"\n      }\n    },\n    {\n      \"column\": \"2020 Census Tract\",\n      \"properties\": {\n        \"dtype\": \"number\",\n        \"std\": 1650853550,\n        \"min\": 2090001300,\n        \"max\": 53077940006,\n        \"num_unique_values\": 1906,\n        \"samples\": [\n          53053070403,\n          53049950501\n        ],\n        \"semantic_type\": \"\",\n        \"description\": \"\"\n      }\n    }\n  ]\n}"
            }
          },
          "metadata": {},
          "execution_count": 4
        }
      ]
    },
    {
      "cell_type": "code",
      "source": [
        "df = df.rename(columns={\n",
        "    \"Postal Code\": \"Postal_Code\",\n",
        "    \"Model Year\": \"Model_Year\",\n",
        "    \"Electric Vehicle Type\": \"EV_Type\",\n",
        "    \"Electric Range\": \"Electric_Range\"\n",
        "})"
      ],
      "metadata": {
        "id": "h8jIoY5lMQMM"
      },
      "execution_count": 5,
      "outputs": []
    },
    {
      "cell_type": "code",
      "source": [
        "df.head(2)"
      ],
      "metadata": {
        "colab": {
          "base_uri": "https://localhost:8080/",
          "height": 323
        },
        "id": "0bQtsTjBcreN",
        "outputId": "c16b005d-2bd4-464d-a47f-3156023a6556"
      },
      "execution_count": 6,
      "outputs": [
        {
          "output_type": "execute_result",
          "data": {
            "text/plain": [
              "   Unnamed: 0.1  Unnamed: 0  VIN (1-10)     County       City State  \\\n",
              "0             0           0  5YJ3E1EB4L     Yakima     Yakima    WA   \n",
              "1             1           1  5YJ3E1EA7K  San Diego  San Diego    CA   \n",
              "\n",
              "   Postal_Code  Model_Year   Make    Model                         EV_Type  \\\n",
              "0        98908        2020  TESLA  MODEL 3  Battery Electric Vehicle (BEV)   \n",
              "1        92101        2019  TESLA  MODEL 3  Battery Electric Vehicle (BEV)   \n",
              "\n",
              "  Clean Alternative Fuel Vehicle (CAFV) Eligibility  Electric_Range  \\\n",
              "0           Clean Alternative Fuel Vehicle Eligible             322   \n",
              "1           Clean Alternative Fuel Vehicle Eligible             220   \n",
              "\n",
              "   Base MSRP  Legislative District  DOL Vehicle ID  \\\n",
              "0          0                  14.0       127175366   \n",
              "1          0                   NaN       266614659   \n",
              "\n",
              "              Vehicle Location Electric Utility  2020 Census Tract  \n",
              "0  POINT (-120.56916 46.58514)       PACIFICORP        53077000904  \n",
              "1  POINT (-117.16171 32.71568)              NaN         6073005102  "
            ],
            "text/html": [
              "\n",
              "  <div id=\"df-4daa961d-def9-4d4d-9b24-aa4ba824958f\" class=\"colab-df-container\">\n",
              "    <div>\n",
              "<style scoped>\n",
              "    .dataframe tbody tr th:only-of-type {\n",
              "        vertical-align: middle;\n",
              "    }\n",
              "\n",
              "    .dataframe tbody tr th {\n",
              "        vertical-align: top;\n",
              "    }\n",
              "\n",
              "    .dataframe thead th {\n",
              "        text-align: right;\n",
              "    }\n",
              "</style>\n",
              "<table border=\"1\" class=\"dataframe\">\n",
              "  <thead>\n",
              "    <tr style=\"text-align: right;\">\n",
              "      <th></th>\n",
              "      <th>Unnamed: 0.1</th>\n",
              "      <th>Unnamed: 0</th>\n",
              "      <th>VIN (1-10)</th>\n",
              "      <th>County</th>\n",
              "      <th>City</th>\n",
              "      <th>State</th>\n",
              "      <th>Postal_Code</th>\n",
              "      <th>Model_Year</th>\n",
              "      <th>Make</th>\n",
              "      <th>Model</th>\n",
              "      <th>EV_Type</th>\n",
              "      <th>Clean Alternative Fuel Vehicle (CAFV) Eligibility</th>\n",
              "      <th>Electric_Range</th>\n",
              "      <th>Base MSRP</th>\n",
              "      <th>Legislative District</th>\n",
              "      <th>DOL Vehicle ID</th>\n",
              "      <th>Vehicle Location</th>\n",
              "      <th>Electric Utility</th>\n",
              "      <th>2020 Census Tract</th>\n",
              "    </tr>\n",
              "  </thead>\n",
              "  <tbody>\n",
              "    <tr>\n",
              "      <th>0</th>\n",
              "      <td>0</td>\n",
              "      <td>0</td>\n",
              "      <td>5YJ3E1EB4L</td>\n",
              "      <td>Yakima</td>\n",
              "      <td>Yakima</td>\n",
              "      <td>WA</td>\n",
              "      <td>98908</td>\n",
              "      <td>2020</td>\n",
              "      <td>TESLA</td>\n",
              "      <td>MODEL 3</td>\n",
              "      <td>Battery Electric Vehicle (BEV)</td>\n",
              "      <td>Clean Alternative Fuel Vehicle Eligible</td>\n",
              "      <td>322</td>\n",
              "      <td>0</td>\n",
              "      <td>14.0</td>\n",
              "      <td>127175366</td>\n",
              "      <td>POINT (-120.56916 46.58514)</td>\n",
              "      <td>PACIFICORP</td>\n",
              "      <td>53077000904</td>\n",
              "    </tr>\n",
              "    <tr>\n",
              "      <th>1</th>\n",
              "      <td>1</td>\n",
              "      <td>1</td>\n",
              "      <td>5YJ3E1EA7K</td>\n",
              "      <td>San Diego</td>\n",
              "      <td>San Diego</td>\n",
              "      <td>CA</td>\n",
              "      <td>92101</td>\n",
              "      <td>2019</td>\n",
              "      <td>TESLA</td>\n",
              "      <td>MODEL 3</td>\n",
              "      <td>Battery Electric Vehicle (BEV)</td>\n",
              "      <td>Clean Alternative Fuel Vehicle Eligible</td>\n",
              "      <td>220</td>\n",
              "      <td>0</td>\n",
              "      <td>NaN</td>\n",
              "      <td>266614659</td>\n",
              "      <td>POINT (-117.16171 32.71568)</td>\n",
              "      <td>NaN</td>\n",
              "      <td>6073005102</td>\n",
              "    </tr>\n",
              "  </tbody>\n",
              "</table>\n",
              "</div>\n",
              "    <div class=\"colab-df-buttons\">\n",
              "\n",
              "  <div class=\"colab-df-container\">\n",
              "    <button class=\"colab-df-convert\" onclick=\"convertToInteractive('df-4daa961d-def9-4d4d-9b24-aa4ba824958f')\"\n",
              "            title=\"Convert this dataframe to an interactive table.\"\n",
              "            style=\"display:none;\">\n",
              "\n",
              "  <svg xmlns=\"http://www.w3.org/2000/svg\" height=\"24px\" viewBox=\"0 -960 960 960\">\n",
              "    <path d=\"M120-120v-720h720v720H120Zm60-500h600v-160H180v160Zm220 220h160v-160H400v160Zm0 220h160v-160H400v160ZM180-400h160v-160H180v160Zm440 0h160v-160H620v160ZM180-180h160v-160H180v160Zm440 0h160v-160H620v160Z\"/>\n",
              "  </svg>\n",
              "    </button>\n",
              "\n",
              "  <style>\n",
              "    .colab-df-container {\n",
              "      display:flex;\n",
              "      gap: 12px;\n",
              "    }\n",
              "\n",
              "    .colab-df-convert {\n",
              "      background-color: #E8F0FE;\n",
              "      border: none;\n",
              "      border-radius: 50%;\n",
              "      cursor: pointer;\n",
              "      display: none;\n",
              "      fill: #1967D2;\n",
              "      height: 32px;\n",
              "      padding: 0 0 0 0;\n",
              "      width: 32px;\n",
              "    }\n",
              "\n",
              "    .colab-df-convert:hover {\n",
              "      background-color: #E2EBFA;\n",
              "      box-shadow: 0px 1px 2px rgba(60, 64, 67, 0.3), 0px 1px 3px 1px rgba(60, 64, 67, 0.15);\n",
              "      fill: #174EA6;\n",
              "    }\n",
              "\n",
              "    .colab-df-buttons div {\n",
              "      margin-bottom: 4px;\n",
              "    }\n",
              "\n",
              "    [theme=dark] .colab-df-convert {\n",
              "      background-color: #3B4455;\n",
              "      fill: #D2E3FC;\n",
              "    }\n",
              "\n",
              "    [theme=dark] .colab-df-convert:hover {\n",
              "      background-color: #434B5C;\n",
              "      box-shadow: 0px 1px 3px 1px rgba(0, 0, 0, 0.15);\n",
              "      filter: drop-shadow(0px 1px 2px rgba(0, 0, 0, 0.3));\n",
              "      fill: #FFFFFF;\n",
              "    }\n",
              "  </style>\n",
              "\n",
              "    <script>\n",
              "      const buttonEl =\n",
              "        document.querySelector('#df-4daa961d-def9-4d4d-9b24-aa4ba824958f button.colab-df-convert');\n",
              "      buttonEl.style.display =\n",
              "        google.colab.kernel.accessAllowed ? 'block' : 'none';\n",
              "\n",
              "      async function convertToInteractive(key) {\n",
              "        const element = document.querySelector('#df-4daa961d-def9-4d4d-9b24-aa4ba824958f');\n",
              "        const dataTable =\n",
              "          await google.colab.kernel.invokeFunction('convertToInteractive',\n",
              "                                                    [key], {});\n",
              "        if (!dataTable) return;\n",
              "\n",
              "        const docLinkHtml = 'Like what you see? Visit the ' +\n",
              "          '<a target=\"_blank\" href=https://colab.research.google.com/notebooks/data_table.ipynb>data table notebook</a>'\n",
              "          + ' to learn more about interactive tables.';\n",
              "        element.innerHTML = '';\n",
              "        dataTable['output_type'] = 'display_data';\n",
              "        await google.colab.output.renderOutput(dataTable, element);\n",
              "        const docLink = document.createElement('div');\n",
              "        docLink.innerHTML = docLinkHtml;\n",
              "        element.appendChild(docLink);\n",
              "      }\n",
              "    </script>\n",
              "  </div>\n",
              "\n",
              "\n",
              "<div id=\"df-2bb86f1b-5838-48eb-9453-ab50ef224935\">\n",
              "  <button class=\"colab-df-quickchart\" onclick=\"quickchart('df-2bb86f1b-5838-48eb-9453-ab50ef224935')\"\n",
              "            title=\"Suggest charts\"\n",
              "            style=\"display:none;\">\n",
              "\n",
              "<svg xmlns=\"http://www.w3.org/2000/svg\" height=\"24px\"viewBox=\"0 0 24 24\"\n",
              "     width=\"24px\">\n",
              "    <g>\n",
              "        <path d=\"M19 3H5c-1.1 0-2 .9-2 2v14c0 1.1.9 2 2 2h14c1.1 0 2-.9 2-2V5c0-1.1-.9-2-2-2zM9 17H7v-7h2v7zm4 0h-2V7h2v10zm4 0h-2v-4h2v4z\"/>\n",
              "    </g>\n",
              "</svg>\n",
              "  </button>\n",
              "\n",
              "<style>\n",
              "  .colab-df-quickchart {\n",
              "      --bg-color: #E8F0FE;\n",
              "      --fill-color: #1967D2;\n",
              "      --hover-bg-color: #E2EBFA;\n",
              "      --hover-fill-color: #174EA6;\n",
              "      --disabled-fill-color: #AAA;\n",
              "      --disabled-bg-color: #DDD;\n",
              "  }\n",
              "\n",
              "  [theme=dark] .colab-df-quickchart {\n",
              "      --bg-color: #3B4455;\n",
              "      --fill-color: #D2E3FC;\n",
              "      --hover-bg-color: #434B5C;\n",
              "      --hover-fill-color: #FFFFFF;\n",
              "      --disabled-bg-color: #3B4455;\n",
              "      --disabled-fill-color: #666;\n",
              "  }\n",
              "\n",
              "  .colab-df-quickchart {\n",
              "    background-color: var(--bg-color);\n",
              "    border: none;\n",
              "    border-radius: 50%;\n",
              "    cursor: pointer;\n",
              "    display: none;\n",
              "    fill: var(--fill-color);\n",
              "    height: 32px;\n",
              "    padding: 0;\n",
              "    width: 32px;\n",
              "  }\n",
              "\n",
              "  .colab-df-quickchart:hover {\n",
              "    background-color: var(--hover-bg-color);\n",
              "    box-shadow: 0 1px 2px rgba(60, 64, 67, 0.3), 0 1px 3px 1px rgba(60, 64, 67, 0.15);\n",
              "    fill: var(--button-hover-fill-color);\n",
              "  }\n",
              "\n",
              "  .colab-df-quickchart-complete:disabled,\n",
              "  .colab-df-quickchart-complete:disabled:hover {\n",
              "    background-color: var(--disabled-bg-color);\n",
              "    fill: var(--disabled-fill-color);\n",
              "    box-shadow: none;\n",
              "  }\n",
              "\n",
              "  .colab-df-spinner {\n",
              "    border: 2px solid var(--fill-color);\n",
              "    border-color: transparent;\n",
              "    border-bottom-color: var(--fill-color);\n",
              "    animation:\n",
              "      spin 1s steps(1) infinite;\n",
              "  }\n",
              "\n",
              "  @keyframes spin {\n",
              "    0% {\n",
              "      border-color: transparent;\n",
              "      border-bottom-color: var(--fill-color);\n",
              "      border-left-color: var(--fill-color);\n",
              "    }\n",
              "    20% {\n",
              "      border-color: transparent;\n",
              "      border-left-color: var(--fill-color);\n",
              "      border-top-color: var(--fill-color);\n",
              "    }\n",
              "    30% {\n",
              "      border-color: transparent;\n",
              "      border-left-color: var(--fill-color);\n",
              "      border-top-color: var(--fill-color);\n",
              "      border-right-color: var(--fill-color);\n",
              "    }\n",
              "    40% {\n",
              "      border-color: transparent;\n",
              "      border-right-color: var(--fill-color);\n",
              "      border-top-color: var(--fill-color);\n",
              "    }\n",
              "    60% {\n",
              "      border-color: transparent;\n",
              "      border-right-color: var(--fill-color);\n",
              "    }\n",
              "    80% {\n",
              "      border-color: transparent;\n",
              "      border-right-color: var(--fill-color);\n",
              "      border-bottom-color: var(--fill-color);\n",
              "    }\n",
              "    90% {\n",
              "      border-color: transparent;\n",
              "      border-bottom-color: var(--fill-color);\n",
              "    }\n",
              "  }\n",
              "</style>\n",
              "\n",
              "  <script>\n",
              "    async function quickchart(key) {\n",
              "      const quickchartButtonEl =\n",
              "        document.querySelector('#' + key + ' button');\n",
              "      quickchartButtonEl.disabled = true;  // To prevent multiple clicks.\n",
              "      quickchartButtonEl.classList.add('colab-df-spinner');\n",
              "      try {\n",
              "        const charts = await google.colab.kernel.invokeFunction(\n",
              "            'suggestCharts', [key], {});\n",
              "      } catch (error) {\n",
              "        console.error('Error during call to suggestCharts:', error);\n",
              "      }\n",
              "      quickchartButtonEl.classList.remove('colab-df-spinner');\n",
              "      quickchartButtonEl.classList.add('colab-df-quickchart-complete');\n",
              "    }\n",
              "    (() => {\n",
              "      let quickchartButtonEl =\n",
              "        document.querySelector('#df-2bb86f1b-5838-48eb-9453-ab50ef224935 button');\n",
              "      quickchartButtonEl.style.display =\n",
              "        google.colab.kernel.accessAllowed ? 'block' : 'none';\n",
              "    })();\n",
              "  </script>\n",
              "</div>\n",
              "\n",
              "    </div>\n",
              "  </div>\n"
            ],
            "application/vnd.google.colaboratory.intrinsic+json": {
              "type": "dataframe",
              "variable_name": "df",
              "summary": "{\n  \"name\": \"df\",\n  \"rows\": 75215,\n  \"fields\": [\n    {\n      \"column\": \"Unnamed: 0.1\",\n      \"properties\": {\n        \"dtype\": \"number\",\n        \"std\": 21712,\n        \"min\": 0,\n        \"max\": 75214,\n        \"num_unique_values\": 75215,\n        \"samples\": [\n          6264,\n          52454,\n          9822\n        ],\n        \"semantic_type\": \"\",\n        \"description\": \"\"\n      }\n    },\n    {\n      \"column\": \"Unnamed: 0\",\n      \"properties\": {\n        \"dtype\": \"number\",\n        \"std\": 21712,\n        \"min\": 0,\n        \"max\": 75214,\n        \"num_unique_values\": 75215,\n        \"samples\": [\n          6264,\n          52454,\n          9822\n        ],\n        \"semantic_type\": \"\",\n        \"description\": \"\"\n      }\n    },\n    {\n      \"column\": \"VIN (1-10)\",\n      \"properties\": {\n        \"dtype\": \"category\",\n        \"num_unique_values\": 7476,\n        \"samples\": [\n          \"2C4RC1H78L\",\n          \"1FMCU0LZ2N\",\n          \"1G1FW6S07P\"\n        ],\n        \"semantic_type\": \"\",\n        \"description\": \"\"\n      }\n    },\n    {\n      \"column\": \"County\",\n      \"properties\": {\n        \"dtype\": \"category\",\n        \"num_unique_values\": 119,\n        \"samples\": [\n          \"Saratoga\",\n          \"Bexar\",\n          \"Kitsap\"\n        ],\n        \"semantic_type\": \"\",\n        \"description\": \"\"\n      }\n    },\n    {\n      \"column\": \"City\",\n      \"properties\": {\n        \"dtype\": \"category\",\n        \"num_unique_values\": 540,\n        \"samples\": [\n          \"College Place\",\n          \"Normandy Park\",\n          \"Mineral\"\n        ],\n        \"semantic_type\": \"\",\n        \"description\": \"\"\n      }\n    },\n    {\n      \"column\": \"State\",\n      \"properties\": {\n        \"dtype\": \"category\",\n        \"num_unique_values\": 35,\n        \"samples\": [\n          \"HI\",\n          \"NY\",\n          \"KS\"\n        ],\n        \"semantic_type\": \"\",\n        \"description\": \"\"\n      }\n    },\n    {\n      \"column\": \"Postal_Code\",\n      \"properties\": {\n        \"dtype\": \"number\",\n        \"std\": 2506,\n        \"min\": 1730,\n        \"max\": 99701,\n        \"num_unique_values\": 646,\n        \"samples\": [\n          90249,\n          89147,\n          98433\n        ],\n        \"semantic_type\": \"\",\n        \"description\": \"\"\n      }\n    },\n    {\n      \"column\": \"Model_Year\",\n      \"properties\": {\n        \"dtype\": \"number\",\n        \"std\": 2,\n        \"min\": 1999,\n        \"max\": 2023,\n        \"num_unique_values\": 17,\n        \"samples\": [\n          2020,\n          2019,\n          2018\n        ],\n        \"semantic_type\": \"\",\n        \"description\": \"\"\n      }\n    },\n    {\n      \"column\": \"Make\",\n      \"properties\": {\n        \"dtype\": \"category\",\n        \"num_unique_values\": 35,\n        \"samples\": [\n          \"LUCID MOTORS\",\n          \"AUDI\",\n          \"POLESTAR\"\n        ],\n        \"semantic_type\": \"\",\n        \"description\": \"\"\n      }\n    },\n    {\n      \"column\": \"Model\",\n      \"properties\": {\n        \"dtype\": \"category\",\n        \"num_unique_values\": 119,\n        \"samples\": [\n          \"RAV4\",\n          \"C-CLASS\",\n          \"LEAF\"\n        ],\n        \"semantic_type\": \"\",\n        \"description\": \"\"\n      }\n    },\n    {\n      \"column\": \"EV_Type\",\n      \"properties\": {\n        \"dtype\": \"category\",\n        \"num_unique_values\": 2,\n        \"samples\": [\n          \"Plug-in Hybrid Electric Vehicle (PHEV)\",\n          \"Battery Electric Vehicle (BEV)\"\n        ],\n        \"semantic_type\": \"\",\n        \"description\": \"\"\n      }\n    },\n    {\n      \"column\": \"Clean Alternative Fuel Vehicle (CAFV) Eligibility\",\n      \"properties\": {\n        \"dtype\": \"category\",\n        \"num_unique_values\": 3,\n        \"samples\": [\n          \"Clean Alternative Fuel Vehicle Eligible\",\n          \"Not eligible due to low battery range\"\n        ],\n        \"semantic_type\": \"\",\n        \"description\": \"\"\n      }\n    },\n    {\n      \"column\": \"Electric_Range\",\n      \"properties\": {\n        \"dtype\": \"number\",\n        \"std\": 100,\n        \"min\": 0,\n        \"max\": 337,\n        \"num_unique_values\": 98,\n        \"samples\": [\n          16,\n          149\n        ],\n        \"semantic_type\": \"\",\n        \"description\": \"\"\n      }\n    },\n    {\n      \"column\": \"Base MSRP\",\n      \"properties\": {\n        \"dtype\": \"number\",\n        \"std\": 10314,\n        \"min\": 0,\n        \"max\": 845000,\n        \"num_unique_values\": 31,\n        \"samples\": [\n          91250,\n          98950\n        ],\n        \"semantic_type\": \"\",\n        \"description\": \"\"\n      }\n    },\n    {\n      \"column\": \"Legislative District\",\n      \"properties\": {\n        \"dtype\": \"number\",\n        \"std\": 14.760174369808812,\n        \"min\": 1.0,\n        \"max\": 49.0,\n        \"num_unique_values\": 49,\n        \"samples\": [\n          41.0,\n          25.0\n        ],\n        \"semantic_type\": \"\",\n        \"description\": \"\"\n      }\n    },\n    {\n      \"column\": \"DOL Vehicle ID\",\n      \"properties\": {\n        \"dtype\": \"number\",\n        \"std\": 89142359,\n        \"min\": 4777,\n        \"max\": 478935460,\n        \"num_unique_values\": 75215,\n        \"samples\": [\n          110048571,\n          474649304\n        ],\n        \"semantic_type\": \"\",\n        \"description\": \"\"\n      }\n    },\n    {\n      \"column\": \"Vehicle Location\",\n      \"properties\": {\n        \"dtype\": \"category\",\n        \"num_unique_values\": 639,\n        \"samples\": [\n          \"POINT (-122.38418 47.70044)\",\n          \"POINT (-121.28544 45.6939)\"\n        ],\n        \"semantic_type\": \"\",\n        \"description\": \"\"\n      }\n    },\n    {\n      \"column\": \"Electric Utility\",\n      \"properties\": {\n        \"dtype\": \"category\",\n        \"num_unique_values\": 72,\n        \"samples\": [\n          \"CITY OF SEATTLE - (WA)|CITY OF TACOMA - (WA)\",\n          \"BONNEVILLE POWER ADMINISTRATION||PUD NO 1 OF ASOTIN COUNTY||INLAND POWER & LIGHT COMPANY\"\n        ],\n        \"semantic_type\": \"\",\n        \"description\": \"\"\n      }\n    },\n    {\n      \"column\": \"2020 Census Tract\",\n      \"properties\": {\n        \"dtype\": \"number\",\n        \"std\": 1650853550,\n        \"min\": 2090001300,\n        \"max\": 53077940006,\n        \"num_unique_values\": 1906,\n        \"samples\": [\n          53053070403,\n          53049950501\n        ],\n        \"semantic_type\": \"\",\n        \"description\": \"\"\n      }\n    }\n  ]\n}"
            }
          },
          "metadata": {},
          "execution_count": 6
        }
      ]
    },
    {
      "cell_type": "code",
      "source": [
        "print(df.columns)"
      ],
      "metadata": {
        "colab": {
          "base_uri": "https://localhost:8080/"
        },
        "id": "Xqg6LHEvdVkD",
        "outputId": "a7deae62-0f25-47c4-9a3d-77aae815f2a3"
      },
      "execution_count": 7,
      "outputs": [
        {
          "output_type": "stream",
          "name": "stdout",
          "text": [
            "Index(['Unnamed: 0.1', 'Unnamed: 0', 'VIN (1-10)', 'County', 'City', 'State',\n",
            "       'Postal_Code', 'Model_Year', 'Make', 'Model', 'EV_Type',\n",
            "       'Clean Alternative Fuel Vehicle (CAFV) Eligibility', 'Electric_Range',\n",
            "       'Base MSRP', 'Legislative District', 'DOL Vehicle ID',\n",
            "       'Vehicle Location', 'Electric Utility', '2020 Census Tract'],\n",
            "      dtype='object')\n"
          ]
        }
      ]
    },
    {
      "cell_type": "code",
      "source": [
        "# df.to_parquet(\"electric-cars.parquet\")\n",
        "# df.to_csv(\"electric-cars.csv\")"
      ],
      "metadata": {
        "id": "4qAJdUZlYiVT"
      },
      "execution_count": 8,
      "outputs": []
    },
    {
      "cell_type": "markdown",
      "source": [
        "### DuckDB with 1 core\n",
        "\n",
        "\n"
      ],
      "metadata": {
        "id": "G3Z_7ZGWJ_6H"
      }
    },
    {
      "cell_type": "code",
      "source": [
        "con = duckdb.connect(database=':memory:', read_only=False)\n",
        "con.execute(\"PRAGMA threads=1\")\n",
        "con.execute(\"CREATE TABLE electric_cars AS SELECT * FROM df\")\n"
      ],
      "metadata": {
        "colab": {
          "base_uri": "https://localhost:8080/"
        },
        "id": "yCXM55soIrX0",
        "outputId": "844ecd9d-d809-4a77-8808-ac703ddb4266"
      },
      "execution_count": 9,
      "outputs": [
        {
          "output_type": "execute_result",
          "data": {
            "text/plain": [
              "<duckdb.duckdb.DuckDBPyConnection at 0x7b0e65ebb3f0>"
            ]
          },
          "metadata": {},
          "execution_count": 9
        }
      ]
    },
    {
      "cell_type": "code",
      "source": [
        "# Start timer\n",
        "start_time = time.time()\n",
        "\n",
        "query = \"\"\"\n",
        "SELECT City, COUNT(*) AS Total_Cars\n",
        "FROM electric_cars\n",
        "GROUP BY City\n",
        "ORDER BY Total_Cars DESC\n",
        "limit 10\"\"\"\n",
        "\n",
        "result = con.execute(query).df()\n",
        "print(result)\n",
        "\n",
        "# End timer\n",
        "duckdb_time = time.time() - start_time"
      ],
      "metadata": {
        "colab": {
          "base_uri": "https://localhost:8080/"
        },
        "id": "FCg2eCNHHrau",
        "outputId": "904b0cb1-a8e1-461d-bcbd-31057dff97af"
      },
      "execution_count": 10,
      "outputs": [
        {
          "output_type": "stream",
          "name": "stdout",
          "text": [
            "        City  Total_Cars\n",
            "0    Seattle       13714\n",
            "1   Bellevue        4026\n",
            "2    Redmond        2848\n",
            "3  Vancouver        2841\n",
            "4   Kirkland        2522\n",
            "5    Bothell        2398\n",
            "6  Sammamish        2290\n",
            "7     Renton        2030\n",
            "8    Olympia        1950\n",
            "9     Tacoma        1448\n"
          ]
        }
      ]
    },
    {
      "cell_type": "code",
      "source": [
        "# Measure CSV load time with Pandas\n",
        "start_time = time.time()\n",
        "df_pandas_csv = pd.read_csv(\"/content/electric-cars.csv\")\n",
        "pandas_csv_time = time.time() - start_time\n",
        "print(f\"Pandas CSV Load Time: {pandas_csv_time:.4f} seconds\")\n",
        "\n",
        "# Measure Parquet load time with Pandas\n",
        "start_time = time.time()\n",
        "df_pandas_parquet = pd.read_parquet(\"electric-cars.parquet\")\n",
        "pandas_parquet_time = time.time() - start_time\n",
        "print(f\"Pandas Parquet Load Time: {pandas_parquet_time:.4f} seconds\")\n",
        "\n",
        "# Measure CSV load time with DuckDB\n",
        "start_time = time.time()\n",
        "duckdb.sql(\"CREATE TABLE cars AS SELECT * FROM read_csv_auto('electric-cars.csv')\")\n",
        "duckdb_csv_time = time.time() - start_time\n",
        "print(f\"DuckDB CSV Load Time: {duckdb_csv_time:.4f} seconds\")\n",
        "\n",
        "# Measure Parquet load time with DuckDB\n",
        "start_time = time.time()\n",
        "duckdb.sql(\"CREATE TABLE cars_parquet AS SELECT * FROM read_parquet('electric-cars.parquet')\")\n",
        "duckdb_parquet_time = time.time() - start_time\n",
        "print(f\"DuckDB Parquet Load Time: {duckdb_parquet_time:.4f} seconds\")\n"
      ],
      "metadata": {
        "colab": {
          "base_uri": "https://localhost:8080/"
        },
        "id": "0DokxvdNYYsj",
        "outputId": "a9dd4dde-cac0-45c6-ae88-ddd9a51b8b4e"
      },
      "execution_count": 11,
      "outputs": [
        {
          "output_type": "stream",
          "name": "stdout",
          "text": [
            "Pandas CSV Load Time: 1.2542 seconds\n",
            "Pandas Parquet Load Time: 0.2079 seconds\n",
            "DuckDB CSV Load Time: 0.5957 seconds\n",
            "DuckDB Parquet Load Time: 0.4194 seconds\n"
          ]
        }
      ]
    },
    {
      "cell_type": "code",
      "source": [
        "methods = [\"Pandas CSV\", \"Pandas Parquet\", \"DuckDB CSV\", \"DuckDB Parquet\"]\n",
        "times = [pandas_csv_time, pandas_parquet_time, duckdb_csv_time, duckdb_parquet_time]\n",
        "\n",
        "plt.figure(figsize=(8, 5))\n",
        "plt.bar(methods, times, color=[\"blue\", \"green\", \"red\", \"orange\"])\n",
        "\n",
        "plt.xlabel(\"Method\")\n",
        "plt.ylabel(\"Load Time (seconds)\")\n",
        "plt.title(\"CSV vs. Parquet Load Time: Pandas vs. DuckDB\")\n",
        "plt.yscale(\"log\")  # Log scale to highlight differences\n",
        "plt.grid(axis=\"y\", linestyle=\"--\", alpha=0.7)\n",
        "\n",
        "plt.show()"
      ],
      "metadata": {
        "colab": {
          "base_uri": "https://localhost:8080/",
          "height": 487
        },
        "id": "O0kOmscCZPNP",
        "outputId": "88f805b5-b7e1-4713-8f4d-e1e17fe6fbaf"
      },
      "execution_count": 12,
      "outputs": [
        {
          "output_type": "display_data",
          "data": {
            "text/plain": [
              "<Figure size 800x500 with 1 Axes>"
            ],
            "image/png": "[encoded data removed]"
          },
          "metadata": {}
        }
      ]
    },
    {
      "cell_type": "code",
      "source": [
        "# Pandas aggregation\n",
        "start_time = time.time()\n",
        "result_pandas = df_pandas_csv.groupby(\"Model_Year\").size().reset_index(name=\"Count\")\n",
        "pandas_agg_time = time.time() - start_time\n",
        "\n",
        "# DuckDB aggregation\n",
        "start_time = time.time()\n",
        "result_duckdb = duckdb.sql(\"SELECT Model_Year, COUNT(*) as Count FROM cars GROUP BY Model_Year \").df()\n",
        "duckdb_agg_time = time.time() - start_time\n",
        "\n",
        "methods = [\"Pandas Aggregation\", \"DuckDB Aggregation\"]\n",
        "times = [pandas_agg_time, duckdb_agg_time]\n",
        "\n",
        "plt.figure(figsize=(6, 4))\n",
        "plt.barh(methods, times, color=['green', 'lime'])\n",
        "plt.xlabel(\"Execution Time (seconds)\")\n",
        "plt.ylabel(\"Operation\")\n",
        "plt.title(\"Aggregation Performance: DuckDB vs Pandas\")\n",
        "plt.gca().invert_yaxis()\n",
        "plt.show()\n",
        "\n",
        "print(f\"Pandas Aggregation Time: {pandas_agg_time:.6f} seconds\")\n",
        "print(f\"DuckDB Aggregation Time: {duckdb_agg_time:.6f} seconds\")"
      ],
      "metadata": {
        "colab": {
          "base_uri": "https://localhost:8080/",
          "height": 445
        },
        "id": "u2ds7uRrbsQY",
        "outputId": "c5a385c6-16fc-412f-aca3-1dd0d63b1483"
      },
      "execution_count": 13,
      "outputs": [
        {
          "output_type": "display_data",
          "data": {
            "text/plain": [
              "<Figure size 600x400 with 1 Axes>"
            ],
            "image/png": "[encoded data removed]"
          },
          "metadata": {}
        },
        {
          "output_type": "stream",
          "name": "stdout",
          "text": [
            "Pandas Aggregation Time: 0.007639 seconds\n",
            "DuckDB Aggregation Time: 0.002863 seconds\n"
          ]
        }
      ]
    },
    {
      "cell_type": "markdown",
      "source": [
        "---"
      ],
      "metadata": {
        "id": "nOUMfp6JL7rr"
      }
    },
    {
      "cell_type": "markdown",
      "source": [
        "## Large Data"
      ],
      "metadata": {
        "id": "UX0g91NYQc4P"
      }
    },
    {
      "cell_type": "code",
      "source": [
        "# df_large = pd.concat([df] * 10, ignore_index=True)  # 10x larger dataset\n",
        "# df_large.to_csv(\"/content/electric-cars-large.csv\", index=False)\n",
        "# df_large.to_parquet(\"electric-cars-large.parquet\")"
      ],
      "metadata": {
        "id": "JcMsCnmpKTZp"
      },
      "execution_count": 14,
      "outputs": []
    },
    {
      "cell_type": "code",
      "source": [
        "# Measure CSV load time with Pandas\n",
        "start_time = time.time()\n",
        "df_pandas_csv = pd.read_csv(\"electric-cars-large.csv\")\n",
        "pandas_csv_time = time.time() - start_time\n",
        "print(f\"Pandas CSV Load Time: {pandas_csv_time:.4f} seconds\")\n",
        "\n",
        "# Measure Parquet load time with Pandas\n",
        "start_time = time.time()\n",
        "df_pandas_parquet = pd.read_parquet(\"electric-cars-large.parquet\")\n",
        "pandas_parquet_time = time.time() - start_time\n",
        "print(f\"Pandas Parquet Load Time: {pandas_parquet_time:.4f} seconds\")\n",
        "\n",
        "# Measure CSV load time with DuckDB\n",
        "start_time = time.time()\n",
        "duckdb.sql(\"CREATE TABLE cars_big AS SELECT * FROM read_csv_auto('electric-cars-large.csv')\")\n",
        "duckdb_csv_time = time.time() - start_time\n",
        "print(f\"DuckDB CSV Load Time: {duckdb_csv_time:.4f} seconds\")\n",
        "\n",
        "# Measure Parquet load time with DuckDB\n",
        "start_time = time.time()\n",
        "duckdb.sql(\"CREATE TABLE cars_parquet_big AS SELECT * FROM read_parquet('electric-cars-large.parquet')\")\n",
        "duckdb_parquet_time = time.time() - start_time\n",
        "print(f\"DuckDB Parquet Load Time: {duckdb_parquet_time:.4f} seconds\")\n"
      ],
      "metadata": {
        "colab": {
          "base_uri": "https://localhost:8080/",
          "height": 118,
          "referenced_widgets": [
            "a22bec4efea648e1931b766031559902",
            "df21ddaa5143451d85428679b7b0d47c",
            "b188ec8da2df4dfa9209ec914a0bba24"
          ]
        },
        "id": "Y9aiAu00K2_P",
        "outputId": "28919e87-df95-43f8-c8ab-257c819ba131"
      },
      "execution_count": 15,
      "outputs": [
        {
          "output_type": "stream",
          "name": "stdout",
          "text": [
            "Pandas CSV Load Time: 5.3014 seconds\n",
            "Pandas Parquet Load Time: 0.5299 seconds\n"
          ]
        },
        {
          "output_type": "display_data",
          "data": {
            "text/plain": [
              "FloatProgress(value=0.0, layout=Layout(width='auto'), style=ProgressStyle(bar_color='black'))"
            ],
            "application/vnd.jupyter.widget-view+json": {
              "version_major": 2,
              "version_minor": 0,
              "model_id": "a22bec4efea648e1931b766031559902"
            }
          },
          "metadata": {}
        },
        {
          "output_type": "stream",
          "name": "stdout",
          "text": [
            "DuckDB CSV Load Time: 2.4399 seconds\n",
            "DuckDB Parquet Load Time: 1.9841 seconds\n"
          ]
        }
      ]
    },
    {
      "cell_type": "code",
      "source": [
        "methods = [\"Pandas CSV\", \"Pandas Parquet\", \"DuckDB CSV\", \"DuckDB Parquet\"]\n",
        "times = [pandas_csv_time, pandas_parquet_time, duckdb_csv_time, duckdb_parquet_time]\n",
        "\n",
        "\n",
        "plt.figure(figsize=(8, 5))\n",
        "plt.bar(methods, times, color=[\"blue\", \"green\", \"red\", \"orange\"])\n",
        "\n",
        "plt.xlabel(\"Method\")\n",
        "plt.ylabel(\"Load Time (seconds)\")\n",
        "plt.title(\"CSV vs. Parquet Load Time: Pandas vs. DuckDB\")\n",
        "plt.yscale(\"log\")  # Log scale to highlight differences\n",
        "plt.grid(axis=\"y\", linestyle=\"--\", alpha=0.7)\n",
        "\n",
        "plt.show()"
      ],
      "metadata": {
        "colab": {
          "base_uri": "https://localhost:8080/",
          "height": 556
        },
        "id": "OoHjwyI5LMBD",
        "outputId": "631f59c1-80c6-4589-9d95-b92f1f9f88ad"
      },
      "execution_count": 16,
      "outputs": [
        {
          "output_type": "display_data",
          "data": {
            "text/plain": [
              "<Figure size 800x500 with 1 Axes>"
            ],
            "image/png": "[encoded data removed]"
          },
          "metadata": {}
        },
        {
          "output_type": "stream",
          "name": "stdout",
          "text": [
            "Pandas CSV Load Time: 5.301404 seconds\n",
            "Pandas Parquet Load Time: 0.529922 seconds\n",
            "DuckDB CSV Load Time: 2.439861 seconds\n",
            "DuckDB Parquet Load Time: 1.984103 seconds\n"
          ]
        }
      ]
    },
    {
      "cell_type": "code",
      "source": [
        "# Pandas aggregation\n",
        "start_time = time.time()\n",
        "result_pandas = df_pandas_csv.groupby(\"Model_Year\").size().reset_index(name=\"Count\")\n",
        "pandas_agg_time = time.time() - start_time\n",
        "\n",
        "# DuckDB aggregation\n",
        "start_time = time.time()\n",
        "result_duckdb = duckdb.sql(\"SELECT Model_Year, COUNT(*) as Count FROM cars_big GROUP BY Model_Year \").df()\n",
        "duckdb_agg_time = time.time() - start_time\n",
        "\n",
        "methods = [\"Pandas Aggregation\", \"DuckDB Aggregation\"]\n",
        "times = [pandas_agg_time, duckdb_agg_time]\n",
        "\n",
        "plt.figure(figsize=(6, 4))\n",
        "plt.barh(methods, times, color=['green', 'lime'])\n",
        "plt.xlabel(\"Execution Time (seconds)\")\n",
        "plt.ylabel(\"Operation\")\n",
        "plt.title(\"Aggregation Performance: DuckDB vs Pandas\")\n",
        "plt.gca().invert_yaxis()\n",
        "plt.show()\n",
        "\n",
        "print(f\"Pandas Aggregation Time: {pandas_agg_time:.6f} seconds\")\n",
        "print(f\"DuckDB Aggregation Time: {duckdb_agg_time:.6f} seconds\")"
      ],
      "metadata": {
        "colab": {
          "base_uri": "https://localhost:8080/",
          "height": 445
        },
        "id": "IbFoU2k5LMcv",
        "outputId": "4a47a096-a514-4a42-8827-4ed59f72a1c7"
      },
      "execution_count": 17,
      "outputs": [
        {
          "output_type": "display_data",
          "data": {
            "text/plain": [
              "<Figure size 600x400 with 1 Axes>"
            ],
            "image/png": "[encoded data removed]"
          },
          "metadata": {}
        },
        {
          "output_type": "stream",
          "name": "stdout",
          "text": [
            "Pandas Aggregation Time: 0.021960 seconds\n",
            "DuckDB Aggregation Time: 0.005640 seconds\n"
          ]
        }
      ]
    },
    {
      "cell_type": "markdown",
      "source": [
        "---\n",
        "\n",
        "### DuckDB with 4 cores"
      ],
      "metadata": {
        "id": "XxBAGKeaQQcJ"
      }
    },
    {
      "cell_type": "code",
      "source": [
        "con.execute(\"PRAGMA threads=4\")  # Use 4 threads for faster processing"
      ],
      "metadata": {
        "colab": {
          "base_uri": "https://localhost:8080/"
        },
        "id": "h4LQnvhpNiQC",
        "outputId": "6667b39f-8d13-4d2f-95e3-824e5cb17878"
      },
      "execution_count": 18,
      "outputs": [
        {
          "output_type": "execute_result",
          "data": {
            "text/plain": [
              "<duckdb.duckdb.DuckDBPyConnection at 0x7b0e65ebb3f0>"
            ]
          },
          "metadata": {},
          "execution_count": 18
        }
      ]
    },
    {
      "cell_type": "code",
      "source": [
        "# Measure CSV load time with Pandas (forcing full re-read)\n",
        "start_time = time.time()\n",
        "df_pandas_csv = pd.read_csv(\"electric-cars-large.csv\", usecols=lambda x: True)\n",
        "pandas_csv_time = time.time() - start_time\n",
        "print(f\"Pandas CSV Load Time: {pandas_csv_time:.4f} seconds\")\n",
        "\n",
        "# Measure Parquet load time with Pandas\n",
        "start_time = time.time()\n",
        "df_pandas_parquet = pd.read_parquet(\"electric-cars-large.parquet\")\n",
        "pandas_parquet_time = time.time() - start_time\n",
        "print(f\"Pandas Parquet Load Time: {pandas_parquet_time:.4f} seconds\")\n",
        "\n",
        "# Measure CSV load time with DuckDB (forcing a full read)\n",
        "start_time = time.time()\n",
        "df_duckdb_csv = duckdb.read_csv(\"electric-cars-large.csv\")  # Ensures full load\n",
        "duckdb_csv_time = time.time() - start_time\n",
        "print(f\"DuckDB CSV Load Time: {duckdb_csv_time:.4f} seconds\")\n",
        "\n",
        "# Measure Parquet load time with DuckDB\n",
        "start_time = time.time()\n",
        "df_duckdb_parquet = duckdb.read_parquet(\"electric-cars-large.parquet\")  # Ensures full load\n",
        "duckdb_parquet_time = time.time() - start_time\n",
        "print(f\"DuckDB Parquet Load Time: {duckdb_parquet_time:.4f} seconds\")\n"
      ],
      "metadata": {
        "colab": {
          "base_uri": "https://localhost:8080/"
        },
        "id": "NsR8OAXagnW5",
        "outputId": "633b4fb5-2f13-40d6-e430-7e2c538908ac"
      },
      "execution_count": 27,
      "outputs": [
        {
          "output_type": "stream",
          "name": "stdout",
          "text": [
            "Pandas CSV Load Time: 2.5741 seconds\n",
            "Pandas Parquet Load Time: 0.5384 seconds\n",
            "DuckDB CSV Load Time: 0.0619 seconds\n",
            "DuckDB Parquet Load Time: 0.0010 seconds\n"
          ]
        }
      ]
    },
    {
      "cell_type": "code",
      "source": [
        "import matplotlib.pyplot as plt\n",
        "\n",
        "# Execution times\n",
        "methods = [\"Pandas CSV\", \"Pandas Parquet\", \"DuckDB CSV\", \"DuckDB Parquet\"]\n",
        "times = [pandas_csv_time, pandas_parquet_time, duckdb_csv_time, duckdb_parquet_time]\n",
        "\n",
        "plt.figure(figsize=(10, 6))\n",
        "\n",
        "# Use log scale if there's a large difference in values\n",
        "if max(times) / min(times) > 1000:  # Only apply log scale if needed\n",
        "    plt.yscale(\"log\")\n",
        "    ylabel_text = \"Execution Time (seconds, log scale)\"\n",
        "else:\n",
        "    ylabel_text = \"Execution Time (seconds)\"\n",
        "\n",
        "plt.bar(methods, times, color=[\"blue\", \"green\", \"red\", \"purple\"])\n",
        "plt.ylabel(ylabel_text)\n",
        "plt.xlabel(\"Method\")\n",
        "plt.title(\"CSV vs Parquet Load Time Comparison\")\n",
        "plt.xticks(rotation=45)\n",
        "plt.grid(axis=\"y\", linestyle=\"--\", alpha=0.7)\n",
        "\n",
        "# Show values on bars dynamically\n",
        "for i, v in enumerate(times):\n",
        "    plt.text(i, v * 1.5, f\"{v:.6f}s\", ha=\"center\", fontsize=10)\n",
        "\n",
        "plt.show()\n"
      ],
      "metadata": {
        "colab": {
          "base_uri": "https://localhost:8080/",
          "height": 640
        },
        "id": "iG3kvX5hQsb5",
        "outputId": "58030bc4-2f8a-4e65-a983-ffb45b54855e"
      },
      "execution_count": 28,
      "outputs": [
        {
          "output_type": "display_data",
          "data": {
            "text/plain": [
              "<Figure size 1000x600 with 1 Axes>"
            ],
            "image/png": "[encoded data removed]"
          },
          "metadata": {}
        }
      ]
    },
    {
      "cell_type": "code",
      "source": [
        "# Pandas aggregation\n",
        "start_time = time.time()\n",
        "result_pandas = df_pandas_csv.groupby(\"Model_Year\").size().reset_index(name=\"Count\")\n",
        "pandas_agg_time = time.time() - start_time\n",
        "\n",
        "# DuckDB aggregation\n",
        "start_time = time.time()\n",
        "result_duckdb = duckdb.sql(\"SELECT Model_Year, COUNT(*) as Count FROM cars_big GROUP BY Model_Year \").df()\n",
        "duckdb_agg_time = time.time() - start_time\n",
        "\n",
        "methods = [\"Pandas Aggregation\", \"DuckDB Aggregation\"]\n",
        "times = [pandas_agg_time, duckdb_agg_time]\n",
        "\n",
        "plt.figure(figsize=(6, 4))\n",
        "plt.barh(methods, times, color=['green', 'lime'])\n",
        "plt.xlabel(\"Execution Time (seconds)\")\n",
        "plt.ylabel(\"Operation\")\n",
        "plt.title(\"Aggregation Performance: DuckDB vs Pandas\")\n",
        "plt.gca().invert_yaxis()\n",
        "plt.show()\n",
        "\n",
        "print(f\"Pandas Aggregation Time: {pandas_agg_time:.6f} seconds\")\n",
        "print(f\"DuckDB Aggregation Time: {duckdb_agg_time:.6f} seconds\")"
      ],
      "metadata": {
        "colab": {
          "base_uri": "https://localhost:8080/",
          "height": 445
        },
        "id": "PeKZduYiWH7i",
        "outputId": "41b6d7ae-c149-49e4-923f-5e0579a199b5"
      },
      "execution_count": 21,
      "outputs": [
        {
          "output_type": "display_data",
          "data": {
            "text/plain": [
              "<Figure size 600x400 with 1 Axes>"
            ],
            "image/png": "[encoded data removed]"
          },
          "metadata": {}
        },
        {
          "output_type": "stream",
          "name": "stdout",
          "text": [
            "Pandas Aggregation Time: 0.018581 seconds\n",
            "DuckDB Aggregation Time: 0.005179 seconds\n"
          ]
        }
      ]
    },
    {
      "cell_type": "markdown",
      "source": [
        "---"
      ],
      "metadata": {
        "id": "z8Ni7fqCfg9m"
      }
    },
    {
      "cell_type": "markdown",
      "source": [
        "## Observations:\n",
        "1. CSV vs Parquet Loading Time (Pandas & DuckDB)\n",
        "  - Parquet files load significantly faster than CSV files in all cases.\n",
        "  - For small data, Pandas loads CSV in 1.25s vs. Parquet in 0.21s, and DuckDB loads CSV in 0.60s vs. Parquet in 0.42s.\n",
        "  - For large data, Pandas CSV takes 5.30s, while Parquet takes 0.53s (10× faster). DuckDB also shows a big improvement with 2.44s for CSV vs. 1.98s for Parquet.\n",
        "  - With 4 cores, DuckDB loads CSV and Parquet instantly (0.00s), showing excellent parallel processing efficiency.\n",
        "\n",
        "2. Aggregation Performance (Pandas vs DuckDB)\n",
        "  - DuckDB is consistently faster than Pandas for aggregation.\n",
        "  - On small data, Pandas takes 0.0076s, while DuckDB takes 0.0029s (almost 3× faster).\n",
        "  - On large data, Pandas takes 0.022s, while DuckDB takes 0.0056s (almost 4× faster).\n",
        "  - With 4 cores, DuckDB achieves 0.0052s, while Pandas is slightly faster at 0.0186s, but DuckDB remains the better option.\n",
        "\n",
        "3. Impact of Multi-Core Processing\n",
        "  - When switching to 4 cores, Pandas CSV loading improves from 5.30s → 2.57s.\n",
        "  - DuckDB completely optimizes CSV and Parquet to load in 0.0619s and 0.001s, highlighting its superior multi-threading capabilities.\n"
      ],
      "metadata": {
        "id": "pPhrS_6lSdvx"
      }
    }
  ]
}